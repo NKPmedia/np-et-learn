{
 "cells": [
  {
   "cell_type": "code",
   "metadata": {
    "collapsed": true,
    "ExecuteTime": {
     "end_time": "2024-06-26T07:09:47.023247Z",
     "start_time": "2024-06-26T07:09:41.787466Z"
    }
   },
   "source": [
    "import os\n",
    "from hydra import initialize, compose\n",
    "from pyrootutils import pyrootutils\n",
    "from os import path\n",
    "\n",
    "%load_ext autoreload\n",
    "%autoreload 2\n",
    "import h5py\n",
    "import numpy as np\n",
    "from omegaconf import ListConfig, DictConfig\n",
    "\n",
    "from src.data.dataset.dynamic_sys_dataset import DynamicSystemTrajectoriesGenerator\n",
    "from src.data.noise_adders import ProcessAndObservationNoiseAdder\n",
    "from src.systems.systems.van_der_pol import VanDerPol\n",
    "from src.utils.torch_utils import t2np\n",
    "from src.utils.visualization.dynamic_system import visualize_nd_trajectories\n",
    "from src.data.dataset.base import BasePckHdf5Loader\n",
    "\n",
    "root = pyrootutils.setup_root(os.path.abspath(''), indicator=\".project-root\", pythonpath=True)\n",
    "config_path = os.path.relpath(os.path.join(root, \"configs\"), os.path.abspath(''))\n",
    "with initialize(version_base=None, config_path=config_path):\n",
    "    cfg = compose(overrides=[], config_name=\"notebook\")"
   ],
   "outputs": [],
   "execution_count": 1
  },
  {
   "cell_type": "code",
   "source": [
    "from src.data.parameter_changer import ConstantParameter, SingleRandomParameterChange\n",
    "\n",
    "data_path = os.path.join(cfg.paths.data_dir, \"vdp-eval-varU/single-trajectories/pN-rC-oneChange-trajectories\")\n",
    "os.makedirs(data_path, exist_ok=True)\n",
    "size = 300\n",
    "dset = DynamicSystemTrajectoriesGenerator(\n",
    "    VanDerPol(),\n",
    "    number_samples=size,\n",
    "    parameter_sample_ranges={\"u\": [ 0.1, 2] },\n",
    "    parameter_changer=SingleRandomParameterChange([600, 601], [0.5, 0.51], [\"u\"]),# Change will be at step 600\n",
    "    state_sample_ranges=DictConfig({\"trajectory\": ListConfig([[-3, 3], [-3, 3]])}),\n",
    "    total_number_of_points=1000,\n",
    "    number_unrolls_per_sample=1,\n",
    "    noise_adder=ProcessAndObservationNoiseAdder(0, 0, 0.01, 0.01),\n",
    "    control_sample_ranges=[[-4, 4]],\n",
    "    progress_bar=True)\n",
    "dset.save(os.path.join(data_path, f\"test.hdf5\"))\n",
    "\n",
    "data = BasePckHdf5Loader(path=os.path.join(data_path,\"test.hdf5\"), preload=True)\n",
    "visualize_nd_trajectories(data[\"x\"][np.random.randint(0, len(data), 5)],\n",
    "                          channel_names=[\"x\", \"y\", \"control\"],\n",
    "                          delta_t=0.02)"
   ],
   "metadata": {
    "collapsed": false,
    "ExecuteTime": {
     "end_time": "2024-06-26T07:11:25.848376Z",
     "start_time": "2024-06-26T07:11:25.539679Z"
    }
   },
   "outputs": [
    {
     "name": "stderr",
     "output_type": "stream",
     "text": [
      "  0%|          | 0/300 [00:00<?, ?it/s]\n"
     ]
    },
    {
     "ename": "AttributeError",
     "evalue": "'VanDerPol' object has no attribute 'get_parameter_names'",
     "output_type": "error",
     "traceback": [
      "\u001B[0;31m---------------------------------------------------------------------------\u001B[0m",
      "\u001B[0;31mAttributeError\u001B[0m                            Traceback (most recent call last)",
      "Cell \u001B[0;32mIn[2], line 17\u001B[0m\n\u001B[1;32m      5\u001B[0m size \u001B[38;5;241m=\u001B[39m \u001B[38;5;241m300\u001B[39m\n\u001B[1;32m      6\u001B[0m dset \u001B[38;5;241m=\u001B[39m DynamicSystemTrajectoriesGenerator(\n\u001B[1;32m      7\u001B[0m     VanDerPol(),\n\u001B[1;32m      8\u001B[0m     number_samples\u001B[38;5;241m=\u001B[39msize,\n\u001B[0;32m   (...)\u001B[0m\n\u001B[1;32m     15\u001B[0m     control_sample_ranges\u001B[38;5;241m=\u001B[39m[[\u001B[38;5;241m-\u001B[39m\u001B[38;5;241m4\u001B[39m, \u001B[38;5;241m4\u001B[39m]],\n\u001B[1;32m     16\u001B[0m     progress_bar\u001B[38;5;241m=\u001B[39m\u001B[38;5;28;01mTrue\u001B[39;00m)\n\u001B[0;32m---> 17\u001B[0m \u001B[43mdset\u001B[49m\u001B[38;5;241;43m.\u001B[39;49m\u001B[43msave\u001B[49m\u001B[43m(\u001B[49m\u001B[43mos\u001B[49m\u001B[38;5;241;43m.\u001B[39;49m\u001B[43mpath\u001B[49m\u001B[38;5;241;43m.\u001B[39;49m\u001B[43mjoin\u001B[49m\u001B[43m(\u001B[49m\u001B[43mdata_path\u001B[49m\u001B[43m,\u001B[49m\u001B[43m \u001B[49m\u001B[38;5;124;43mf\u001B[39;49m\u001B[38;5;124;43m\"\u001B[39;49m\u001B[38;5;124;43mtest.hdf5\u001B[39;49m\u001B[38;5;124;43m\"\u001B[39;49m\u001B[43m)\u001B[49m\u001B[43m)\u001B[49m\n\u001B[1;32m     19\u001B[0m data \u001B[38;5;241m=\u001B[39m BasePckHdf5Loader(path\u001B[38;5;241m=\u001B[39mos\u001B[38;5;241m.\u001B[39mpath\u001B[38;5;241m.\u001B[39mjoin(data_path,\u001B[38;5;124m\"\u001B[39m\u001B[38;5;124mtest.hdf5\u001B[39m\u001B[38;5;124m\"\u001B[39m), preload\u001B[38;5;241m=\u001B[39m\u001B[38;5;28;01mTrue\u001B[39;00m)\n\u001B[1;32m     20\u001B[0m visualize_nd_trajectories(data[\u001B[38;5;124m\"\u001B[39m\u001B[38;5;124mx\u001B[39m\u001B[38;5;124m\"\u001B[39m][np\u001B[38;5;241m.\u001B[39mrandom\u001B[38;5;241m.\u001B[39mrandint(\u001B[38;5;241m0\u001B[39m, \u001B[38;5;28mlen\u001B[39m(data), \u001B[38;5;241m5\u001B[39m)],\n\u001B[1;32m     21\u001B[0m                           channel_names\u001B[38;5;241m=\u001B[39m[\u001B[38;5;124m\"\u001B[39m\u001B[38;5;124mx\u001B[39m\u001B[38;5;124m\"\u001B[39m, \u001B[38;5;124m\"\u001B[39m\u001B[38;5;124my\u001B[39m\u001B[38;5;124m\"\u001B[39m, \u001B[38;5;124m\"\u001B[39m\u001B[38;5;124mcontrol\u001B[39m\u001B[38;5;124m\"\u001B[39m],\n\u001B[1;32m     22\u001B[0m                           delta_t\u001B[38;5;241m=\u001B[39m\u001B[38;5;241m0.02\u001B[39m)\n",
      "File \u001B[0;32m~/PycharmProjects/np-et-learn/src/data/dataset/dynamic_sys_dataset.py:114\u001B[0m, in \u001B[0;36mDynamicSystemTrajectoriesGenerator.save\u001B[0;34m(self, path)\u001B[0m\n\u001B[1;32m    104\u001B[0m \u001B[38;5;28;01mdef\u001B[39;00m \u001B[38;5;21msave\u001B[39m(\u001B[38;5;28mself\u001B[39m, path: \u001B[38;5;28mstr\u001B[39m):\n\u001B[1;32m    105\u001B[0m \u001B[38;5;250m    \u001B[39m\u001B[38;5;124;03m\"\"\"\u001B[39;00m\n\u001B[1;32m    106\u001B[0m \u001B[38;5;124;03m    Saved all the data in a hdf5 file\u001B[39;00m\n\u001B[1;32m    107\u001B[0m \u001B[38;5;124;03m    Saves a json version of this object\u001B[39;00m\n\u001B[0;32m   (...)\u001B[0m\n\u001B[1;32m    112\u001B[0m \n\u001B[1;32m    113\u001B[0m \u001B[38;5;124;03m    \"\"\"\u001B[39;00m\n\u001B[0;32m--> 114\u001B[0m     data \u001B[38;5;241m=\u001B[39m \u001B[38;5;28;43mself\u001B[39;49m\u001B[43m[\u001B[49m\u001B[38;5;28;43mrange\u001B[39;49m\u001B[43m(\u001B[49m\u001B[38;5;28;43mself\u001B[39;49m\u001B[38;5;241;43m.\u001B[39;49m\u001B[43mnumber_samples\u001B[49m\u001B[43m)\u001B[49m\u001B[43m]\u001B[49m\n\u001B[1;32m    115\u001B[0m     data \u001B[38;5;241m=\u001B[39m {key: value\u001B[38;5;241m.\u001B[39mnumpy() \u001B[38;5;28;01mfor\u001B[39;00m key, value \u001B[38;5;129;01min\u001B[39;00m data\u001B[38;5;241m.\u001B[39mitems()}\n\u001B[1;32m    117\u001B[0m     f \u001B[38;5;241m=\u001B[39m h5py\u001B[38;5;241m.\u001B[39mFile(path, \u001B[38;5;124m'\u001B[39m\u001B[38;5;124mw-\u001B[39m\u001B[38;5;124m'\u001B[39m)\n",
      "File \u001B[0;32m~/PycharmProjects/np-et-learn/src/data/dataset/dynamic_sys_dataset.py:85\u001B[0m, in \u001B[0;36mDynamicSystemTrajectoriesGenerator.__getitem__\u001B[0;34m(self, index)\u001B[0m\n\u001B[1;32m     83\u001B[0m     prog \u001B[38;5;241m=\u001B[39m index\n\u001B[1;32m     84\u001B[0m \u001B[38;5;28;01mfor\u001B[39;00m \u001B[38;5;28mid\u001B[39m \u001B[38;5;129;01min\u001B[39;00m prog:\n\u001B[0;32m---> 85\u001B[0m     \u001B[38;5;28;43mself\u001B[39;49m\u001B[38;5;241;43m.\u001B[39;49m\u001B[43mparameter_changer\u001B[49m\u001B[38;5;241;43m.\u001B[39;49m\u001B[43mreset\u001B[49m\u001B[43m(\u001B[49m\u001B[38;5;28;43mself\u001B[39;49m\u001B[38;5;241;43m.\u001B[39;49m\u001B[43mdynamic_system\u001B[49m\u001B[43m)\u001B[49m\n\u001B[1;32m     87\u001B[0m     x, y \u001B[38;5;241m=\u001B[39m \u001B[38;5;28mself\u001B[39m\u001B[38;5;241m.\u001B[39msampler\u001B[38;5;241m.\u001B[39msample_trajectory(\u001B[38;5;28mself\u001B[39m\u001B[38;5;241m.\u001B[39mdynamic_system,\n\u001B[1;32m     88\u001B[0m                                           \u001B[38;5;28mself\u001B[39m\u001B[38;5;241m.\u001B[39mtotal_number_of_points,\n\u001B[1;32m     89\u001B[0m                                           \u001B[38;5;28mself\u001B[39m\u001B[38;5;241m.\u001B[39mnumber_unrolls_per_sample,\n\u001B[0;32m   (...)\u001B[0m\n\u001B[1;32m     92\u001B[0m                                           \u001B[38;5;28mself\u001B[39m\u001B[38;5;241m.\u001B[39mnoise_adder,\n\u001B[1;32m     93\u001B[0m                                           \u001B[38;5;28mself\u001B[39m\u001B[38;5;241m.\u001B[39mparameter_changer)\n\u001B[1;32m     95\u001B[0m     \u001B[38;5;28;01mfor\u001B[39;00m i \u001B[38;5;129;01min\u001B[39;00m \u001B[38;5;28mrange\u001B[39m(x\u001B[38;5;241m.\u001B[39mshape[\u001B[38;5;241m0\u001B[39m]):\n",
      "File \u001B[0;32m~/PycharmProjects/np-et-learn/src/data/parameter_changer.py:222\u001B[0m, in \u001B[0;36mSingleRandomParameterChange.reset\u001B[0;34m(self, model, batch_size, seed)\u001B[0m\n\u001B[1;32m    220\u001B[0m \u001B[38;5;28;01melse\u001B[39;00m:\n\u001B[1;32m    221\u001B[0m     \u001B[38;5;28mself\u001B[39m\u001B[38;5;241m.\u001B[39mgenerator \u001B[38;5;241m=\u001B[39m \u001B[38;5;28;01mNone\u001B[39;00m\n\u001B[0;32m--> 222\u001B[0m parameter \u001B[38;5;241m=\u001B[39m \u001B[38;5;28;43mself\u001B[39;49m\u001B[38;5;241;43m.\u001B[39;49m\u001B[43msample_system_parameter\u001B[49m\u001B[43m(\u001B[49m\u001B[38;5;28;43mself\u001B[39;49m\u001B[38;5;241;43m.\u001B[39;49m\u001B[43minit_sample_ranges\u001B[49m\u001B[43m,\u001B[49m\u001B[43m \u001B[49m\u001B[43mmodel\u001B[49m\u001B[43m)\u001B[49m\n\u001B[1;32m    223\u001B[0m model\u001B[38;5;241m.\u001B[39mset_parameter(parameter)\n\u001B[1;32m    224\u001B[0m \u001B[38;5;28mself\u001B[39m\u001B[38;5;241m.\u001B[39mstep \u001B[38;5;241m=\u001B[39m \u001B[38;5;241m0\u001B[39m\n",
      "File \u001B[0;32m~/PycharmProjects/np-et-learn/src/data/parameter_changer.py:44\u001B[0m, in \u001B[0;36mParameterChanger.sample_system_parameter\u001B[0;34m(self, sample_ranges, model, batch_size)\u001B[0m\n\u001B[1;32m     39\u001B[0m \u001B[38;5;28;01mdef\u001B[39;00m \u001B[38;5;21msample_system_parameter\u001B[39m(\u001B[38;5;28mself\u001B[39m,\n\u001B[1;32m     40\u001B[0m                             sample_ranges: Union[Mapping[\u001B[38;5;28mstr\u001B[39m, Sequence[\u001B[38;5;28mfloat\u001B[39m]], Mapping[\u001B[38;5;28mstr\u001B[39m, \u001B[38;5;28mfloat\u001B[39m]],\n\u001B[1;32m     41\u001B[0m                             model: ParameterChangeable,\n\u001B[1;32m     42\u001B[0m                             batch_size: \u001B[38;5;28mint\u001B[39m \u001B[38;5;241m=\u001B[39m \u001B[38;5;241m1\u001B[39m) \\\n\u001B[1;32m     43\u001B[0m         \u001B[38;5;241m-\u001B[39m\u001B[38;5;241m>\u001B[39m Float[Tensor, \u001B[38;5;124m\"\u001B[39m\u001B[38;5;124mbatch parameter\u001B[39m\u001B[38;5;124m\"\u001B[39m]:\n\u001B[0;32m---> 44\u001B[0m     parameter_names \u001B[38;5;241m=\u001B[39m \u001B[43mmodel\u001B[49m\u001B[38;5;241;43m.\u001B[39;49m\u001B[43mget_parameter_names\u001B[49m()\n\u001B[1;32m     45\u001B[0m     parameters \u001B[38;5;241m=\u001B[39m torch\u001B[38;5;241m.\u001B[39mzeros((batch_size, \u001B[38;5;28mlen\u001B[39m(parameter_names)))\n\u001B[1;32m     46\u001B[0m     \u001B[38;5;28;01mfor\u001B[39;00m batch \u001B[38;5;129;01min\u001B[39;00m \u001B[38;5;28mrange\u001B[39m(batch_size):\n",
      "\u001B[0;31mAttributeError\u001B[0m: 'VanDerPol' object has no attribute 'get_parameter_names'"
     ]
    }
   ],
   "execution_count": 2
  },
  {
   "cell_type": "code",
   "execution_count": null,
   "outputs": [],
   "source": [],
   "metadata": {
    "collapsed": false
   }
  }
 ],
 "metadata": {
  "kernelspec": {
   "display_name": "Python 3",
   "language": "python",
   "name": "python3"
  },
  "language_info": {
   "codemirror_mode": {
    "name": "ipython",
    "version": 2
   },
   "file_extension": ".py",
   "mimetype": "text/x-python",
   "name": "python",
   "nbconvert_exporter": "python",
   "pygments_lexer": "ipython2",
   "version": "2.7.6"
  }
 },
 "nbformat": 4,
 "nbformat_minor": 0
}
