{
 "cells": [
  {
   "cell_type": "code",
   "metadata": {
    "collapsed": true,
    "ExecuteTime": {
     "end_time": "2024-06-26T11:40:08.834917Z",
     "start_time": "2024-06-26T11:40:08.654895Z"
    }
   },
   "source": [
    "import math\n",
    "import os\n",
    "from hydra import initialize, compose\n",
    "from pyrootutils import pyrootutils\n",
    "from os import path\n",
    "\n",
    "%load_ext autoreload\n",
    "%autoreload 2\n",
    "\n",
    "root = pyrootutils.setup_root(os.path.abspath(''), indicator=\".project-root\", pythonpath=True)\n",
    "config_path = os.path.relpath(os.path.join(root, \"configs\"), os.path.abspath(''))\n",
    "with initialize(version_base=None, config_path=config_path):\n",
    "    cfg = compose(overrides=[], config_name=\"notebook\")"
   ],
   "outputs": [],
   "execution_count": 1
  },
  {
   "cell_type": "code",
   "execution_count": 3,
   "outputs": [
    {
     "name": "stderr",
     "output_type": "stream",
     "text": [
      "100%|██████████| 100/100 [00:01<00:00, 86.38it/s]\n"
     ]
    }
   ],
   "source": [
    "from src.systems.systems.inverted_pendulum import InvertedPendulum\n",
    "from src.data.dataset.dynamic_sys_dataset import DynamicSystemInitStateGenerator\n",
    "\n",
    "data_path = os.path.join(cfg.paths.data_dir, \"invP-eval-varLmM/single-init-states/noChange\")\n",
    "os.makedirs(data_path, exist_ok=True)\n",
    "size = 100\n",
    "dset = DynamicSystemInitStateGenerator(\n",
    "    InvertedPendulum(),\n",
    "    number_samples=size,\n",
    "    parameter_sample_ranges={\"L\": [0.1, 0.5], \"m\": [0.1, 0.5], \"M\": [0.5, 2],\"pole_friction\": 0.001, \"cart_friction\": 0.01},\n",
    "    state_sample_ranges=[ [ -0.001, 0.001 ], [ -0.001, 0.001 ], [ 3.1415, 3.1416 ], [ -0.001, 0.001 ] ],\n",
    "    total_number_of_points=1000,\n",
    "    number_unrolls_per_sample=1,\n",
    "    progress_bar=True)\n",
    "dset.save(path.join(data_path, \"test.hdf5\"))"
   ],
   "metadata": {
    "collapsed": false,
    "ExecuteTime": {
     "end_time": "2023-12-18T18:27:06.823046Z",
     "start_time": "2023-12-18T18:27:05.440888Z"
    }
   }
  },
  {
   "cell_type": "code",
   "execution_count": 2,
   "outputs": [
    {
     "name": "stderr",
     "output_type": "stream",
     "text": [
      "100%|██████████| 100/100 [00:00<00:00, 361.37it/s]\n"
     ]
    }
   ],
   "source": [
    "from src.data.parameter_changer import SingleRandomParameterChange\n",
    "from src.data.dataset.dynamic_sys_dataset import DynamicSystemInitStateGenerator\n",
    "from src.systems.systems.inverted_pendulum import InvertedPendulum\n",
    "\n",
    "data_path = os.path.join(cfg.paths.data_dir, \"invP-eval-varLmM/single-init-states/oneLargeChange\")\n",
    "os.makedirs(data_path, exist_ok=True)\n",
    "size = 100\n",
    "dset = DynamicSystemInitStateGenerator(\n",
    "    InvertedPendulum(),\n",
    "    number_samples=size,\n",
    "    parameter_changer=SingleRandomParameterChange([600, 601], [0.1, 0.11], [\"L\", \"m\", \"M\"]),# Change will be at step 600\n",
    "    parameter_sample_ranges={\"L\": [0.1, 0.5], \"m\": [0.1, 0.5], \"M\": [0.5, 2]},\n",
    "    state_sample_ranges=[ [ -0.001, 0.001 ], [ -0.001, 0.001 ], [ 3, 4 ], [ -0.001, 0.001 ] ],\n",
    "    total_number_of_points=1000,\n",
    "    number_unrolls_per_sample=1,\n",
    "    progress_bar=True)\n",
    "dset.save(path.join(data_path, \"test.hdf5\"))"
   ],
   "metadata": {
    "collapsed": false,
    "ExecuteTime": {
     "end_time": "2023-07-28T15:32:00.886147100Z",
     "start_time": "2023-07-28T15:31:57.120136500Z"
    }
   }
  },
  {
   "cell_type": "code",
   "execution_count": 3,
   "outputs": [
    {
     "name": "stderr",
     "output_type": "stream",
     "text": [
      "  0%|          | 0/500 [00:00<?, ?it/s]\n"
     ]
    },
    {
     "ename": "AttributeError",
     "evalue": "'InvertedPendulum' object has no attribute 'get_parameter_names'",
     "output_type": "error",
     "traceback": [
      "\u001B[0;31m---------------------------------------------------------------------------\u001B[0m",
      "\u001B[0;31mAttributeError\u001B[0m                            Traceback (most recent call last)",
      "Cell \u001B[0;32mIn[3], line 17\u001B[0m\n\u001B[1;32m      7\u001B[0m size \u001B[38;5;241m=\u001B[39m \u001B[38;5;241m500\u001B[39m\n\u001B[1;32m      8\u001B[0m dset \u001B[38;5;241m=\u001B[39m DynamicSystemInitStateGenerator(\n\u001B[1;32m      9\u001B[0m     InvertedPendulum(),\n\u001B[1;32m     10\u001B[0m     number_samples\u001B[38;5;241m=\u001B[39msize,\n\u001B[0;32m   (...)\u001B[0m\n\u001B[1;32m     15\u001B[0m     number_unrolls_per_sample\u001B[38;5;241m=\u001B[39m\u001B[38;5;241m1\u001B[39m,\n\u001B[1;32m     16\u001B[0m     progress_bar\u001B[38;5;241m=\u001B[39m\u001B[38;5;28;01mTrue\u001B[39;00m)\n\u001B[0;32m---> 17\u001B[0m \u001B[43mdset\u001B[49m\u001B[38;5;241;43m.\u001B[39;49m\u001B[43msave\u001B[49m\u001B[43m(\u001B[49m\u001B[43mpath\u001B[49m\u001B[38;5;241;43m.\u001B[39;49m\u001B[43mjoin\u001B[49m\u001B[43m(\u001B[49m\u001B[43mdata_path\u001B[49m\u001B[43m,\u001B[49m\u001B[43m \u001B[49m\u001B[38;5;124;43m\"\u001B[39;49m\u001B[38;5;124;43mtest.hdf5\u001B[39;49m\u001B[38;5;124;43m\"\u001B[39;49m\u001B[43m)\u001B[49m\u001B[43m)\u001B[49m\n",
      "File \u001B[0;32m/mnt/c/Users/paulk/PycharmProjects/ma-dsme/src/data/dataset/dynamic_sys_dataset.py:205\u001B[0m, in \u001B[0;36mDynamicSystemInitStateGenerator.save\u001B[0;34m(self, path)\u001B[0m\n\u001B[1;32m    195\u001B[0m \u001B[38;5;28;01mdef\u001B[39;00m \u001B[38;5;21msave\u001B[39m(\u001B[38;5;28mself\u001B[39m, path: \u001B[38;5;28mstr\u001B[39m):\n\u001B[1;32m    196\u001B[0m \u001B[38;5;250m    \u001B[39m\u001B[38;5;124;03m\"\"\"\u001B[39;00m\n\u001B[1;32m    197\u001B[0m \u001B[38;5;124;03m    Saved all the data in a hdf5 file\u001B[39;00m\n\u001B[1;32m    198\u001B[0m \u001B[38;5;124;03m    Saves a json version of this object\u001B[39;00m\n\u001B[0;32m   (...)\u001B[0m\n\u001B[1;32m    203\u001B[0m \n\u001B[1;32m    204\u001B[0m \u001B[38;5;124;03m    \"\"\"\u001B[39;00m\n\u001B[0;32m--> 205\u001B[0m     data \u001B[38;5;241m=\u001B[39m \u001B[38;5;28;43mself\u001B[39;49m\u001B[43m[\u001B[49m\u001B[38;5;28;43mrange\u001B[39;49m\u001B[43m(\u001B[49m\u001B[38;5;28;43mself\u001B[39;49m\u001B[38;5;241;43m.\u001B[39;49m\u001B[43mnumber_samples\u001B[49m\u001B[43m)\u001B[49m\u001B[43m]\u001B[49m\n\u001B[1;32m    206\u001B[0m     data \u001B[38;5;241m=\u001B[39m {key: value\u001B[38;5;241m.\u001B[39mnumpy() \u001B[38;5;28;01mfor\u001B[39;00m key, value \u001B[38;5;129;01min\u001B[39;00m data\u001B[38;5;241m.\u001B[39mitems()}\n\u001B[1;32m    208\u001B[0m     f \u001B[38;5;241m=\u001B[39m h5py\u001B[38;5;241m.\u001B[39mFile(path, \u001B[38;5;124m'\u001B[39m\u001B[38;5;124mw-\u001B[39m\u001B[38;5;124m'\u001B[39m)\n",
      "File \u001B[0;32m/mnt/c/Users/paulk/PycharmProjects/ma-dsme/src/data/dataset/dynamic_sys_dataset.py:175\u001B[0m, in \u001B[0;36mDynamicSystemInitStateGenerator.__getitem__\u001B[0;34m(self, index)\u001B[0m\n\u001B[1;32m    173\u001B[0m     prog \u001B[38;5;241m=\u001B[39m index\n\u001B[1;32m    174\u001B[0m \u001B[38;5;28;01mfor\u001B[39;00m \u001B[38;5;28mid\u001B[39m \u001B[38;5;129;01min\u001B[39;00m prog:\n\u001B[0;32m--> 175\u001B[0m     \u001B[38;5;28;43mself\u001B[39;49m\u001B[38;5;241;43m.\u001B[39;49m\u001B[43mparameter_changer\u001B[49m\u001B[38;5;241;43m.\u001B[39;49m\u001B[43mreset\u001B[49m\u001B[43m(\u001B[49m\u001B[38;5;28;43mself\u001B[39;49m\u001B[38;5;241;43m.\u001B[39;49m\u001B[43mdynamic_system\u001B[49m\u001B[43m)\u001B[49m\n\u001B[1;32m    176\u001B[0m     parameters \u001B[38;5;241m=\u001B[39m []\n\u001B[1;32m    177\u001B[0m     init_state \u001B[38;5;241m=\u001B[39m \u001B[38;5;28mself\u001B[39m\u001B[38;5;241m.\u001B[39mdynamic_system\u001B[38;5;241m.\u001B[39msample_init_state(\u001B[38;5;28mself\u001B[39m\u001B[38;5;241m.\u001B[39mstate_sample_ranges,\n\u001B[1;32m    178\u001B[0m                                                        number\u001B[38;5;241m=\u001B[39m\u001B[38;5;28mself\u001B[39m\u001B[38;5;241m.\u001B[39mnumber_unrolls_per_sample)\n",
      "File \u001B[0;32m/mnt/c/Users/paulk/PycharmProjects/ma-dsme/src/data/parameter_changer.py:216\u001B[0m, in \u001B[0;36mSingleRandomParameterChange.reset\u001B[0;34m(self, model, batch_size, seed)\u001B[0m\n\u001B[1;32m    214\u001B[0m \u001B[38;5;28;01melse\u001B[39;00m:\n\u001B[1;32m    215\u001B[0m     \u001B[38;5;28mself\u001B[39m\u001B[38;5;241m.\u001B[39mgenerator \u001B[38;5;241m=\u001B[39m \u001B[38;5;28;01mNone\u001B[39;00m\n\u001B[0;32m--> 216\u001B[0m parameter \u001B[38;5;241m=\u001B[39m \u001B[38;5;28;43mself\u001B[39;49m\u001B[38;5;241;43m.\u001B[39;49m\u001B[43msample_system_parameter\u001B[49m\u001B[43m(\u001B[49m\u001B[38;5;28;43mself\u001B[39;49m\u001B[38;5;241;43m.\u001B[39;49m\u001B[43minit_sample_ranges\u001B[49m\u001B[43m,\u001B[49m\u001B[43m \u001B[49m\u001B[43mmodel\u001B[49m\u001B[43m)\u001B[49m\n\u001B[1;32m    217\u001B[0m model\u001B[38;5;241m.\u001B[39mset_parameter(parameter)\n\u001B[1;32m    218\u001B[0m \u001B[38;5;28mself\u001B[39m\u001B[38;5;241m.\u001B[39mstep \u001B[38;5;241m=\u001B[39m \u001B[38;5;241m0\u001B[39m\n",
      "File \u001B[0;32m/mnt/c/Users/paulk/PycharmProjects/ma-dsme/src/data/parameter_changer.py:43\u001B[0m, in \u001B[0;36mParameterChanger.sample_system_parameter\u001B[0;34m(self, sample_ranges, model, batch_size)\u001B[0m\n\u001B[1;32m     38\u001B[0m \u001B[38;5;28;01mdef\u001B[39;00m \u001B[38;5;21msample_system_parameter\u001B[39m(\u001B[38;5;28mself\u001B[39m,\n\u001B[1;32m     39\u001B[0m                             sample_ranges: Union[Mapping[\u001B[38;5;28mstr\u001B[39m, Sequence[\u001B[38;5;28mfloat\u001B[39m]], Mapping[\u001B[38;5;28mstr\u001B[39m, \u001B[38;5;28mfloat\u001B[39m]],\n\u001B[1;32m     40\u001B[0m                             model: ParameterChangeable,\n\u001B[1;32m     41\u001B[0m                             batch_size: \u001B[38;5;28mint\u001B[39m \u001B[38;5;241m=\u001B[39m \u001B[38;5;241m1\u001B[39m) \\\n\u001B[1;32m     42\u001B[0m         \u001B[38;5;241m-\u001B[39m\u001B[38;5;241m>\u001B[39m Float[Tensor, \u001B[38;5;124m\"\u001B[39m\u001B[38;5;124mbatch parameter\u001B[39m\u001B[38;5;124m\"\u001B[39m]:\n\u001B[0;32m---> 43\u001B[0m     parameter_names \u001B[38;5;241m=\u001B[39m \u001B[43mmodel\u001B[49m\u001B[38;5;241;43m.\u001B[39;49m\u001B[43mget_parameter_names\u001B[49m()\n\u001B[1;32m     44\u001B[0m     parameters \u001B[38;5;241m=\u001B[39m torch\u001B[38;5;241m.\u001B[39mzeros((batch_size, \u001B[38;5;28mlen\u001B[39m(parameter_names)))\n\u001B[1;32m     45\u001B[0m     \u001B[38;5;28;01mfor\u001B[39;00m batch \u001B[38;5;129;01min\u001B[39;00m \u001B[38;5;28mrange\u001B[39m(batch_size):\n",
      "\u001B[0;31mAttributeError\u001B[0m: 'InvertedPendulum' object has no attribute 'get_parameter_names'"
     ]
    }
   ],
   "source": [
    "from src.data.parameter_changer import SingleRandomParameterChange\n",
    "from src.data.dataset.dynamic_sys_dataset import DynamicSystemInitStateGenerator\n",
    "from src.systems.systems.inverted_pendulum import InvertedPendulum\n",
    "\n",
    "data_path = os.path.join(cfg.paths.data_dir, \"invP-eval-varLmM/single-init-states/one0.3LargeChange-wraparound\")\n",
    "os.makedirs(data_path, exist_ok=True)\n",
    "size = 500\n",
    "dset = DynamicSystemInitStateGenerator(\n",
    "    InvertedPendulum(),\n",
    "    number_samples=size,\n",
    "    parameter_changer=SingleRandomParameterChange(\n",
    "        [600, 601],\n",
    "        [0.3, 0.31],\n",
    "        [\"L\", \"m\", \"M\"],\n",
    "         parameter_warparound=True),# Change will be at step 600\n",
    "    parameter_sample_ranges={\"L\": [0.1, 0.5], \"m\": [0.1, 0.5], \"M\": [0.5, 2],\n",
    "                             \"pole_friction\": 0.001, \"cart_friction\": 0.01},\n",
    "    state_sample_ranges=[ [ -0.001, 0.001 ], [ -0.001, 0.001 ], [ 3, 4 ], [ -0.001, 0.001 ] ],\n",
    "    total_number_of_points=1000,\n",
    "    number_unrolls_per_sample=1,\n",
    "    progress_bar=True)\n",
    "dset.save(path.join(data_path, \"test.hdf5\"))"
   ],
   "metadata": {
    "collapsed": false,
    "ExecuteTime": {
     "end_time": "2023-11-18T18:43:34.643401600Z",
     "start_time": "2023-11-18T18:43:34.327822100Z"
    }
   }
  },
  {
   "cell_type": "code",
   "source": [
    "from src.data.parameter_changer import SingleRandomParameterChange\n",
    "from src.data.dataset.dynamic_sys_dataset import DynamicSystemInitStateGenerator\n",
    "from src.systems.systems.inverted_pendulum import InvertedPendulum\n",
    "\n",
    "data_path = os.path.join(cfg.paths.data_dir, \"invP-eval-varLmM/single-init-states/one0.1change-wraparound-small\")\n",
    "os.makedirs(data_path, exist_ok=True)\n",
    "size = 10\n",
    "dset = DynamicSystemInitStateGenerator(\n",
    "    InvertedPendulum(),\n",
    "    number_samples=size,\n",
    "    parameter_changer=SingleRandomParameterChange(\n",
    "        [600, 601],\n",
    "        [0.1, 0.11],\n",
    "        [\"L\", \"m\", \"M\"],\n",
    "         parameter_warparound=True),# Change will be at step 600\n",
    "    parameter_sample_ranges={\"L\": [0.1, 0.5], \"m\": [0.1, 0.5], \"M\": [0.5, 2],\n",
    "                             \"pole_friction\": 0.001, \"cart_friction\": 0.01},\n",
    "    state_sample_ranges=[ [ -0.001, 0.001 ], [ -0.001, 0.001 ], [ math.pi, math.pi+0.00001 ], [ -0.001, 0.001 ] ],\n",
    "    total_number_of_points=1000,\n",
    "    number_unrolls_per_sample=1,\n",
    "    progress_bar=True)\n",
    "dset.save(path.join(data_path, \"test.hdf5\"))"
   ],
   "metadata": {
    "collapsed": false,
    "ExecuteTime": {
     "end_time": "2024-06-26T11:40:14.279041Z",
     "start_time": "2024-06-26T11:40:12.466249Z"
    }
   },
   "outputs": [
    {
     "name": "stderr",
     "output_type": "stream",
     "text": [
      "100%|██████████| 10/10 [00:00<00:00, 331.80it/s]\n",
      "/home/paulk/PycharmProjects/np-et-learn/src/data/dataset/dynamic_sys_dataset.py:190: UserWarning: To copy construct from a tensor, it is recommended to use sourceTensor.clone().detach() or sourceTensor.clone().detach().requires_grad_(True), rather than torch.tensor(sourceTensor).\n",
      "  task = {k: torch.tensor(torch.stack(v, dim=0),\n"
     ]
    }
   ],
   "execution_count": 2
  },
  {
   "cell_type": "code",
   "source": [
    "import numpy as np\n",
    "import h5py\n",
    "\n",
    "filename = os.path.join(cfg.paths.data_dir, \"invP-eval-varLmM/single-init-states/one0.1change-wraparound-small/test.hdf5\")\n",
    "new_filename = os.path.join(cfg.paths.data_dir, \"invP-eval-varLmM/single-init-states/oneLargeSystemLargeChange2/test.hdf5\")\n",
    "# 0.15 1 0.15 0.001 0.01\n",
    "# 0.4 1.5 0.3 0.001 0.01\n",
    "\n",
    "with h5py.File(filename, \"r\") as f:\n",
    "    # Print all root level object names (aka keys)\n",
    "    # these can be group or dataset names\n",
    "    print(list(f.keys()))\n",
    "    print(f[\"parameter\"].shape)\n",
    "    print(f[\"parameter\"][1, 599])\n",
    "    print(f[\"parameter\"][1, 600])\n",
    "    print(f[\"x\"].shape)\n",
    "\n",
    "#Create folder if not exists\n",
    "os.makedirs(os.path.dirname(new_filename), exist_ok=True)\n",
    "with h5py.File(new_filename, \"w-\") as f:\n",
    "    parameter = np.zeros((300, 1000, 5), dtype=np.float32)\n",
    "    parameter[:, :560] = np.array([[0.15, 1.0, 0.15, 0.001, 0.01]])\n",
    "    parameter[:, 560:] = np.array([[0.4, 1.5, 0.3, 0.001, 0.01]])\n",
    "    x = np.array([[0.0, 0.0, math.pi, 0.0]], dtype=np.float32).repeat(300, axis=0)\n",
    "    f.create_dataset(\"parameter\", data=parameter)\n",
    "    f.create_dataset(\"x\", data=x)"
   ],
   "metadata": {
    "collapsed": false,
    "ExecuteTime": {
     "end_time": "2024-06-26T11:40:18.175124Z",
     "start_time": "2024-06-26T11:40:18.136043Z"
    }
   },
   "outputs": [
    {
     "name": "stdout",
     "output_type": "stream",
     "text": [
      "['parameter', 'x']\n",
      "(10, 1000, 5)\n",
      "[0.2231265  0.68131316 0.12288795 0.001      0.01      ]\n",
      "[0.12292968 0.78151    0.17730889 0.001      0.01      ]\n",
      "(10, 4)\n"
     ]
    }
   ],
   "execution_count": 3
  },
  {
   "metadata": {},
   "cell_type": "code",
   "outputs": [],
   "execution_count": null,
   "source": ""
  }
 ],
 "metadata": {
  "kernelspec": {
   "display_name": "Python 3",
   "language": "python",
   "name": "python3"
  },
  "language_info": {
   "codemirror_mode": {
    "name": "ipython",
    "version": 2
   },
   "file_extension": ".py",
   "mimetype": "text/x-python",
   "name": "python",
   "nbconvert_exporter": "python",
   "pygments_lexer": "ipython2",
   "version": "2.7.6"
  }
 },
 "nbformat": 4,
 "nbformat_minor": 0
}
